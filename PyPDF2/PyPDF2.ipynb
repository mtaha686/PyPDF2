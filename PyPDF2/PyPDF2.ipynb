{
 "cells": [
  {
   "cell_type": "code",
   "execution_count": 63,
   "id": "89013ad4",
   "metadata": {},
   "outputs": [
    {
     "data": {
      "text/plain": [
       "'3.0.1'"
      ]
     },
     "execution_count": 63,
     "metadata": {},
     "output_type": "execute_result"
    }
   ],
   "source": [
    "import PyPDF2 as pdf\n",
    "import os\n",
    "pdf.__version__ "
   ]
  },
  {
   "cell_type": "code",
   "execution_count": null,
   "id": "5067133c",
   "metadata": {},
   "outputs": [],
   "source": []
  },
  {
   "cell_type": "code",
   "execution_count": 64,
   "id": "a3310c70",
   "metadata": {},
   "outputs": [
    {
     "data": {
      "text/plain": [
       "['DocumentInformation',\n",
       " 'PageObject',\n",
       " 'PageRange',\n",
       " 'PaperSize',\n",
       " 'PasswordType',\n",
       " 'PdfFileMerger',\n",
       " 'PdfFileReader',\n",
       " 'PdfFileWriter',\n",
       " 'PdfMerger',\n",
       " 'PdfReader',\n",
       " 'PdfWriter',\n",
       " 'Transformation',\n",
       " '__all__',\n",
       " '__builtins__',\n",
       " '__cached__',\n",
       " '__doc__',\n",
       " '__file__',\n",
       " '__loader__',\n",
       " '__name__',\n",
       " '__package__',\n",
       " '__path__',\n",
       " '__spec__',\n",
       " '__version__',\n",
       " '__warningregistry__',\n",
       " '_cmap',\n",
       " '_codecs',\n",
       " '_encryption',\n",
       " '_merger',\n",
       " '_page',\n",
       " '_protocols',\n",
       " '_reader',\n",
       " '_security',\n",
       " '_utils',\n",
       " '_version',\n",
       " '_writer',\n",
       " 'constants',\n",
       " 'errors',\n",
       " 'filters',\n",
       " 'generic',\n",
       " 'pagerange',\n",
       " 'papersizes',\n",
       " 'parse_filename_page_ranges',\n",
       " 'types',\n",
       " 'warnings',\n",
       " 'xmp']"
      ]
     },
     "execution_count": 64,
     "metadata": {},
     "output_type": "execute_result"
    }
   ],
   "source": [
    "dir(pdf)"
   ]
  },
  {
   "cell_type": "code",
   "execution_count": 65,
   "id": "7607c1e3",
   "metadata": {},
   "outputs": [],
   "source": [
    "from PyPDF2 import PdfReader,PdfWriter"
   ]
  },
  {
   "cell_type": "code",
   "execution_count": 66,
   "id": "6e1f2e3b",
   "metadata": {},
   "outputs": [],
   "source": [
    "# with open(\"j.p._10_2016.pdf\",\"rb\") as file:\n",
    "#     reader = PdfReader(file)\n",
    "#     info = reader.metadata   # to get document information\n",
    "# #     print(info)\n",
    "#     info.author\n",
    "#     no_of_pages = info.len(reader.pages)\n",
    "#     print(no_of_pages)"
   ]
  },
  {
   "cell_type": "code",
   "execution_count": 67,
   "id": "6f28a2ba",
   "metadata": {},
   "outputs": [
    {
     "data": {
      "text/plain": [
       "{'/Producer': 'doPDF Ver 7.2 Build 376 (unknown Windows version - Version: 10.0.18362 (x64))',\n",
       " '/CreationDate': \"D:20191009135251+05'00'\"}"
      ]
     },
     "execution_count": 67,
     "metadata": {},
     "output_type": "execute_result"
    }
   ],
   "source": [
    "file = \"j.p._10_2016.pdf\"\n",
    "reader = PdfReader(file)\n",
    "reader.metadata"
   ]
  },
  {
   "cell_type": "code",
   "execution_count": 68,
   "id": "5124f645",
   "metadata": {},
   "outputs": [],
   "source": [
    "title = info.title\n",
    "title"
   ]
  },
  {
   "cell_type": "code",
   "execution_count": 69,
   "id": "d84b6db6",
   "metadata": {},
   "outputs": [],
   "source": [
    "author = info.author\n",
    "author"
   ]
  },
  {
   "cell_type": "code",
   "execution_count": 70,
   "id": "0e745c73",
   "metadata": {},
   "outputs": [
    {
     "data": {
      "text/plain": [
       "3"
      ]
     },
     "execution_count": 70,
     "metadata": {},
     "output_type": "execute_result"
    }
   ],
   "source": [
    "len(reader.pages)"
   ]
  },
  {
   "cell_type": "code",
   "execution_count": 71,
   "id": "15241a70",
   "metadata": {},
   "outputs": [
    {
     "data": {
      "text/plain": [
       "'IN THE SUPREME COURT OF PAKISTAN  \\n(Appellate Jurisdiction)  \\n \\n \\nPRESENT : \\nMr. Justice Manzoor Ahmed Malik  \\nMr. Justice Sajjad Ali Shah  \\nMr. Justice Qazi Muhammad Amin Ahmed  \\n \\nJAIL PETITIONS N O.10 AND 50  OF 2016  \\n(Against the Judgment dated 26.10.2015 passed by  \\nLahore High Court, Lahore in Cr.A. No.215 -J/2010)  \\n \\nMuhammad Shahbaz Ali Khalid  \\n(in Jail Petition No.10/2016)   \\n \\nShujat Ali alias Tikka  \\n(in Jail Petition No. 50/2016)  \\n \\n  …Petitioner (s) \\n     Versus  \\nThe State  \\n…Res pondent  \\n \\n \\nFor the  petitioner (s): Mr. Muhammad Junaid Akhtar, ASC  \\n   \\n \\nFor the State:  Mirza Abid Majeed,  \\n Deputy Prosecutor General, Punjab  \\n      \\nDate of hearing:  2.10.2019 . \\n \\nJUDGMENT  \\n \\n  Qazi Muhammad Amin Ahmed, J. - Muhammad \\nShahbaz Ali Khalid and Shujat Ali alias Tikka , while travelling in a \\npublic vehicle, were intercepted on 3.6.2009 within the precincts of \\nPolice Station Essakh el, District Mianwali ; the former had deceitfully \\nclad himself in a veil, however, exposed on search , with a suicide vest \\nwrapped  around his body; the explosive weighed 15 kilograms;  Shujat \\nAli was found carrying five leads along with detonators and electric \\nfuses ; upon indictment, they claimed trial , culminating into their \\nconvictions  under Section 4 read with Section 5 -A of the Explosive \\nSubstances Act, 1908  read with Section 7(g) of the Anti Terrorism Act, \\n1997 ; Shahbaz Ali Khalid was additionally convicted under Section \\n419 of Pakistan Penal Code for impersonating himself as a female; \\nthey were sentenced to imprisonment for life  with forfei ture of their '"
      ]
     },
     "execution_count": 71,
     "metadata": {},
     "output_type": "execute_result"
    }
   ],
   "source": [
    "reader.pages[0].extract_text() # extraction from pdf."
   ]
  },
  {
   "cell_type": "code",
   "execution_count": 72,
   "id": "e4eb977e",
   "metadata": {},
   "outputs": [],
   "source": [
    "# function to get meta data.\n",
    "def get_pdf_meta_data(pdf_path):\n",
    "    with open(pdf_path, \"rb\") as file:\n",
    "        reader = PdfReader(file)\n",
    "        info = reader.metadata # to get document information\n",
    "    return info"
   ]
  },
  {
   "cell_type": "code",
   "execution_count": 73,
   "id": "369a898b",
   "metadata": {},
   "outputs": [],
   "source": [
    "# get_pdf_meta_data(file)"
   ]
  },
  {
   "cell_type": "code",
   "execution_count": 74,
   "id": "a9892d3f",
   "metadata": {},
   "outputs": [],
   "source": [
    "def extract_text_from_pdf(pdf_path):\n",
    "    with open(pdf_path,\"rb\") as f:\n",
    "        reader = PdfReader(f)\n",
    "        results = []\n",
    "        no_of_pages = len(reader.pages)\n",
    "        for i in range(no_of_pages):\n",
    "            selected_page = reader.pages[i]\n",
    "            text = selected_page.extract_text()\n",
    "            results.append(text)\n",
    "        return ' '.join(results)   #convert list to a single string."
   ]
  },
  {
   "cell_type": "code",
   "execution_count": 75,
   "id": "30270ef5",
   "metadata": {},
   "outputs": [],
   "source": [
    "# extract_text_from_pdf(file)"
   ]
  },
  {
   "cell_type": "code",
   "execution_count": 76,
   "id": "5422373c",
   "metadata": {},
   "outputs": [],
   "source": [
    "# function to split pdf into multiple pdf's"
   ]
  },
  {
   "cell_type": "code",
   "execution_count": 87,
   "id": "fa034ded",
   "metadata": {},
   "outputs": [],
   "source": [
    "def split_pdf(pdf_path):\n",
    "    with open(pdf_path,\"rb\") as file:\n",
    "        reader = PdfReader(file)\n",
    "        no_of_pages = len(reader.pages)\n",
    "        for i in range(no_of_pages):\n",
    "            selected_page = reader.pages[i]\n",
    "            writer = PdfWriter()\n",
    "            writer.add_page(selected_page) #add/embedding of a page\n",
    "            filename = os.path.splitext(pdf_path)[0]\n",
    "            output_file_name = f\"{filename}_{i+1}.pdf\"\n",
    "            \n",
    "            with open(output_file_name, \"wb\") as output:\n",
    "                writer.write(output)\n",
    "                \n",
    "            print(\"created pdf file: {}\".format(output_file_name))"
   ]
  },
  {
   "cell_type": "code",
   "execution_count": 88,
   "id": "b97bd132",
   "metadata": {},
   "outputs": [
    {
     "name": "stdout",
     "output_type": "stream",
     "text": [
      "created pdf file: j.p._10_2016_1.pdf\n",
      "created pdf file: j.p._10_2016_2.pdf\n",
      "created pdf file: j.p._10_2016_3.pdf\n"
     ]
    }
   ],
   "source": [
    "split_pdf(file)"
   ]
  },
  {
   "cell_type": "code",
   "execution_count": 98,
   "id": "e3a56944",
   "metadata": {},
   "outputs": [],
   "source": [
    "# split pdf upto a page.\n",
    "def get_pdf_upto_page(pdf_path,start_page: int=0,end_page: int =0):\n",
    "    with open(pdf_path, \"rb\") as f:\n",
    "        reader = PdfReader(f)\n",
    "        writer = PdfWriter()\n",
    "#         last_page = len(reader.pages)-1\n",
    "        for page_number in range(start_page, end_page):\n",
    "            selected_page = reader.pages[page_number]\n",
    "            writer.add_page(selected_page)\n",
    "            filename= os.path.splitext(pdf_path)[0]\n",
    "            output_file_name = f\"{filename} from {start_page} to {end_page}.pdf\"\n",
    "            with open(output_file_name, \"wb\") as file:\n",
    "                writer.write(file)"
   ]
  },
  {
   "cell_type": "code",
   "execution_count": 99,
   "id": "6eed09b1",
   "metadata": {},
   "outputs": [],
   "source": [
    "get_pdf_upto_page(file,0,2)"
   ]
  },
  {
   "cell_type": "code",
   "execution_count": 105,
   "id": "d0287ef5",
   "metadata": {},
   "outputs": [],
   "source": [
    "# fetch all pdf files.\n",
    "\n",
    "def fetch_all_pdf_files(pdf_folder: str):\n",
    "    list_of_files = []\n",
    "    for path, subdir, files in os.walk(pdf_folder):\n",
    "        for name in files:\n",
    "            if name.endswith(\".pdf\"):\n",
    "                list_of_files.append(os.path.join(path,name))\n",
    "            return list_of_files"
   ]
  },
  {
   "cell_type": "code",
   "execution_count": 106,
   "id": "3d34e43a",
   "metadata": {},
   "outputs": [],
   "source": [
    "folder =\"./C:/Users/taham/Desktop/Jail petition\"\n",
    "fetch_all_pdf_files(folder)"
   ]
  },
  {
   "cell_type": "code",
   "execution_count": null,
   "id": "6963ec69",
   "metadata": {},
   "outputs": [],
   "source": []
  },
  {
   "cell_type": "code",
   "execution_count": null,
   "id": "9360fbd7",
   "metadata": {},
   "outputs": [],
   "source": [
    "# merge pdf files\n",
    "\n",
    "def merge_pdf_files()"
   ]
  },
  {
   "cell_type": "code",
   "execution_count": 107,
   "id": "b6016ae8",
   "metadata": {},
   "outputs": [
    {
     "ename": "UnicodeDecodeError",
     "evalue": "'charmap' codec can't decode byte 0x81 in position 1964: character maps to <undefined>",
     "output_type": "error",
     "traceback": [
      "\u001b[1;31m---------------------------------------------------------------------------\u001b[0m",
      "\u001b[1;31mUnicodeDecodeError\u001b[0m                        Traceback (most recent call last)",
      "\u001b[1;32m~\\AppData\\Local\\Temp\\ipykernel_13452\\3170634235.py\u001b[0m in \u001b[0;36m<module>\u001b[1;34m\u001b[0m\n\u001b[0;32m      5\u001b[0m     \u001b[0mfilepath\u001b[0m \u001b[1;33m=\u001b[0m \u001b[0mos\u001b[0m\u001b[1;33m.\u001b[0m\u001b[0mpath\u001b[0m\u001b[1;33m.\u001b[0m\u001b[0mjoin\u001b[0m\u001b[1;33m(\u001b[0m\u001b[0mdirectory_path\u001b[0m\u001b[1;33m,\u001b[0m \u001b[0mfilename\u001b[0m\u001b[1;33m)\u001b[0m\u001b[1;33m\u001b[0m\u001b[1;33m\u001b[0m\u001b[0m\n\u001b[0;32m      6\u001b[0m     \u001b[1;32mwith\u001b[0m \u001b[0mopen\u001b[0m\u001b[1;33m(\u001b[0m\u001b[0mfilepath\u001b[0m\u001b[1;33m,\u001b[0m \u001b[1;34m'r'\u001b[0m\u001b[1;33m)\u001b[0m \u001b[1;32mas\u001b[0m \u001b[0mfile\u001b[0m\u001b[1;33m:\u001b[0m\u001b[1;33m\u001b[0m\u001b[1;33m\u001b[0m\u001b[0m\n\u001b[1;32m----> 7\u001b[1;33m         \u001b[0mfile_contents\u001b[0m \u001b[1;33m=\u001b[0m \u001b[0mfile\u001b[0m\u001b[1;33m.\u001b[0m\u001b[0mread\u001b[0m\u001b[1;33m(\u001b[0m\u001b[1;33m)\u001b[0m\u001b[1;33m\u001b[0m\u001b[1;33m\u001b[0m\u001b[0m\n\u001b[0m",
      "\u001b[1;32m~\\anaconda3\\lib\\encodings\\cp1252.py\u001b[0m in \u001b[0;36mdecode\u001b[1;34m(self, input, final)\u001b[0m\n\u001b[0;32m     21\u001b[0m \u001b[1;32mclass\u001b[0m \u001b[0mIncrementalDecoder\u001b[0m\u001b[1;33m(\u001b[0m\u001b[0mcodecs\u001b[0m\u001b[1;33m.\u001b[0m\u001b[0mIncrementalDecoder\u001b[0m\u001b[1;33m)\u001b[0m\u001b[1;33m:\u001b[0m\u001b[1;33m\u001b[0m\u001b[1;33m\u001b[0m\u001b[0m\n\u001b[0;32m     22\u001b[0m     \u001b[1;32mdef\u001b[0m \u001b[0mdecode\u001b[0m\u001b[1;33m(\u001b[0m\u001b[0mself\u001b[0m\u001b[1;33m,\u001b[0m \u001b[0minput\u001b[0m\u001b[1;33m,\u001b[0m \u001b[0mfinal\u001b[0m\u001b[1;33m=\u001b[0m\u001b[1;32mFalse\u001b[0m\u001b[1;33m)\u001b[0m\u001b[1;33m:\u001b[0m\u001b[1;33m\u001b[0m\u001b[1;33m\u001b[0m\u001b[0m\n\u001b[1;32m---> 23\u001b[1;33m         \u001b[1;32mreturn\u001b[0m \u001b[0mcodecs\u001b[0m\u001b[1;33m.\u001b[0m\u001b[0mcharmap_decode\u001b[0m\u001b[1;33m(\u001b[0m\u001b[0minput\u001b[0m\u001b[1;33m,\u001b[0m\u001b[0mself\u001b[0m\u001b[1;33m.\u001b[0m\u001b[0merrors\u001b[0m\u001b[1;33m,\u001b[0m\u001b[0mdecoding_table\u001b[0m\u001b[1;33m)\u001b[0m\u001b[1;33m[\u001b[0m\u001b[1;36m0\u001b[0m\u001b[1;33m]\u001b[0m\u001b[1;33m\u001b[0m\u001b[1;33m\u001b[0m\u001b[0m\n\u001b[0m\u001b[0;32m     24\u001b[0m \u001b[1;33m\u001b[0m\u001b[0m\n\u001b[0;32m     25\u001b[0m \u001b[1;32mclass\u001b[0m \u001b[0mStreamWriter\u001b[0m\u001b[1;33m(\u001b[0m\u001b[0mCodec\u001b[0m\u001b[1;33m,\u001b[0m\u001b[0mcodecs\u001b[0m\u001b[1;33m.\u001b[0m\u001b[0mStreamWriter\u001b[0m\u001b[1;33m)\u001b[0m\u001b[1;33m:\u001b[0m\u001b[1;33m\u001b[0m\u001b[1;33m\u001b[0m\u001b[0m\n",
      "\u001b[1;31mUnicodeDecodeError\u001b[0m: 'charmap' codec can't decode byte 0x81 in position 1964: character maps to <undefined>"
     ]
    }
   ],
   "source": [
    "import os\n",
    "\n",
    "directory_path = 'C:/Users/taham/Desktop/Jail petition'\n",
    "for filename in os.listdir(directory_path):\n",
    "    filepath = os.path.join(directory_path, filename)\n",
    "    with open(filepath, 'r') as file:\n",
    "        file_contents = file.read()"
   ]
  },
  {
   "cell_type": "code",
   "execution_count": null,
   "id": "964311ad",
   "metadata": {},
   "outputs": [],
   "source": []
  }
 ],
 "metadata": {
  "kernelspec": {
   "display_name": "Python 3 (ipykernel)",
   "language": "python",
   "name": "python3"
  },
  "language_info": {
   "codemirror_mode": {
    "name": "ipython",
    "version": 3
   },
   "file_extension": ".py",
   "mimetype": "text/x-python",
   "name": "python",
   "nbconvert_exporter": "python",
   "pygments_lexer": "ipython3",
   "version": "3.9.16"
  }
 },
 "nbformat": 4,
 "nbformat_minor": 5
}
